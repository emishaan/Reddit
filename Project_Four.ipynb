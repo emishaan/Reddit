{
 "cells": [
  {
   "cell_type": "code",
   "execution_count": 1,
   "metadata": {
    "collapsed": true
   },
   "outputs": [],
   "source": [
    "import numpy as np\n",
    "import pandas as pd"
   ]
  },
  {
   "cell_type": "code",
   "execution_count": 2,
   "metadata": {
    "collapsed": true
   },
   "outputs": [],
   "source": [
    "pd.options.display.max_rows = 3000"
   ]
  },
  {
   "cell_type": "code",
   "execution_count": 3,
   "metadata": {},
   "outputs": [
    {
     "data": {
      "text/html": [
       "<div>\n",
       "<style>\n",
       "    .dataframe thead tr:only-child th {\n",
       "        text-align: right;\n",
       "    }\n",
       "\n",
       "    .dataframe thead th {\n",
       "        text-align: left;\n",
       "    }\n",
       "\n",
       "    .dataframe tbody tr th {\n",
       "        vertical-align: top;\n",
       "    }\n",
       "</style>\n",
       "<table border=\"1\" class=\"dataframe\">\n",
       "  <thead>\n",
       "    <tr style=\"text-align: right;\">\n",
       "      <th></th>\n",
       "      <th>title</th>\n",
       "      <th>time</th>\n",
       "      <th>sub</th>\n",
       "      <th>comments</th>\n",
       "    </tr>\n",
       "  </thead>\n",
       "  <tbody>\n",
       "    <tr>\n",
       "      <th>0</th>\n",
       "      <td>Dad reflexes prevent crash.</td>\n",
       "      <td>2 hours ago</td>\n",
       "      <td>r/DadReflexes</td>\n",
       "      <td>249 comments</td>\n",
       "    </tr>\n",
       "    <tr>\n",
       "      <th>1</th>\n",
       "      <td>Quite literally choosing beggar</td>\n",
       "      <td>4 hours ago</td>\n",
       "      <td>r/ChoosingBeggars</td>\n",
       "      <td>631 comments</td>\n",
       "    </tr>\n",
       "    <tr>\n",
       "      <th>2</th>\n",
       "      <td>When your cat crashes his bicycle in his dream...</td>\n",
       "      <td>4 hours ago</td>\n",
       "      <td>r/funny</td>\n",
       "      <td>642 comments</td>\n",
       "    </tr>\n",
       "    <tr>\n",
       "      <th>3</th>\n",
       "      <td>Heatmap of numbers found at the end of Reddit ...</td>\n",
       "      <td>5 hours ago</td>\n",
       "      <td>r/dataisbeautiful</td>\n",
       "      <td>2612 comments</td>\n",
       "    </tr>\n",
       "    <tr>\n",
       "      <th>4</th>\n",
       "      <td>Hre you OPEN TODAY</td>\n",
       "      <td>5 hours ago</td>\n",
       "      <td>r/oldpeoplefacebook</td>\n",
       "      <td>313 comments</td>\n",
       "    </tr>\n",
       "  </tbody>\n",
       "</table>\n",
       "</div>"
      ],
      "text/plain": [
       "                                               title         time  \\\n",
       "0                        Dad reflexes prevent crash.  2 hours ago   \n",
       "1                    Quite literally choosing beggar  4 hours ago   \n",
       "2  When your cat crashes his bicycle in his dream...  4 hours ago   \n",
       "3  Heatmap of numbers found at the end of Reddit ...  5 hours ago   \n",
       "4                                 Hre you OPEN TODAY  5 hours ago   \n",
       "\n",
       "                   sub       comments  \n",
       "0        r/DadReflexes   249 comments  \n",
       "1    r/ChoosingBeggars   631 comments  \n",
       "2              r/funny   642 comments  \n",
       "3    r/dataisbeautiful  2612 comments  \n",
       "4  r/oldpeoplefacebook   313 comments  "
      ]
     },
     "execution_count": 3,
     "metadata": {},
     "output_type": "execute_result"
    }
   ],
   "source": [
    "df = pd.read_csv('./datasets/backup2.csv')\n",
    "df.head()"
   ]
  },
  {
   "cell_type": "code",
   "execution_count": 4,
   "metadata": {},
   "outputs": [
    {
     "data": {
      "text/plain": [
       "(2525, 4)"
      ]
     },
     "execution_count": 4,
     "metadata": {},
     "output_type": "execute_result"
    }
   ],
   "source": [
    "df.shape"
   ]
  },
  {
   "cell_type": "code",
   "execution_count": 5,
   "metadata": {},
   "outputs": [],
   "source": [
    "df['comments'] = df['comments'].apply(lambda x: x.replace('comments', ''))"
   ]
  },
  {
   "cell_type": "code",
   "execution_count": 6,
   "metadata": {},
   "outputs": [
    {
     "data": {
      "text/plain": [
       "2            121\n",
       "1 comment     97\n",
       "3             84\n",
       "4             78\n",
       "7             76\n",
       "6             74\n",
       "5             73\n",
       "9             69\n",
       "11            64\n",
       "10            64\n",
       "comment       63\n",
       "14            59\n",
       "8             57\n",
       "12            49\n",
       "15            42\n",
       "18            38\n",
       "13            37\n",
       "20            31\n",
       "22            30\n",
       "16            29\n",
       "23            28\n",
       "17            28\n",
       "21            25\n",
       "37            25\n",
       "31            24\n",
       "28            23\n",
       "19            23\n",
       "24            22\n",
       "26            21\n",
       "35            20\n",
       "27            20\n",
       "25            16\n",
       "29            16\n",
       "32            15\n",
       "30            15\n",
       "42            14\n",
       "36            14\n",
       "34            14\n",
       "64            13\n",
       "38            13\n",
       "39            13\n",
       "43            12\n",
       "45            11\n",
       "33            11\n",
       "40            11\n",
       "57            10\n",
       "68            10\n",
       "50            10\n",
       "65            10\n",
       "41            10\n",
       "79             9\n",
       "61             9\n",
       "60             9\n",
       "77             9\n",
       "47             9\n",
       "80             9\n",
       "53             9\n",
       "51             8\n",
       "59             8\n",
       "46             8\n",
       "44             8\n",
       "54             8\n",
       "70             8\n",
       "71             8\n",
       "89             8\n",
       "52             8\n",
       "62             7\n",
       "87             7\n",
       "76             7\n",
       "84             7\n",
       "67             7\n",
       "56             7\n",
       "81             7\n",
       "73             7\n",
       "159            6\n",
       "74             6\n",
       "122            6\n",
       "55             6\n",
       "104            6\n",
       "101            6\n",
       "103            5\n",
       "114            5\n",
       "146            5\n",
       "48             5\n",
       "98             5\n",
       "63             5\n",
       "129            5\n",
       "75             5\n",
       "165            5\n",
       "124            5\n",
       "90             5\n",
       "155            5\n",
       "86             5\n",
       "78             5\n",
       "58             5\n",
       "66             5\n",
       "208            4\n",
       "125            4\n",
       "117            4\n",
       "195            4\n",
       "82             4\n",
       "113            4\n",
       "49             4\n",
       "157            4\n",
       "225            4\n",
       "138            4\n",
       "99             4\n",
       "272            4\n",
       "72             4\n",
       "161            4\n",
       "97             4\n",
       "174            4\n",
       "151            4\n",
       "248            4\n",
       "95             4\n",
       "96             4\n",
       "69             4\n",
       "88             4\n",
       "116            4\n",
       "142            3\n",
       "178            3\n",
       "105            3\n",
       "109            3\n",
       "238            3\n",
       "126            3\n",
       "197            3\n",
       "136            3\n",
       "149            3\n",
       "141            3\n",
       "121            3\n",
       "162            3\n",
       "110            3\n",
       "562            2\n",
       "194            2\n",
       "670            2\n",
       "231            2\n",
       "625            2\n",
       "847            2\n",
       "448            2\n",
       "115            2\n",
       "179            2\n",
       "603            2\n",
       "609            2\n",
       "396            2\n",
       "107            2\n",
       "85             2\n",
       "181            2\n",
       "222            2\n",
       "483            2\n",
       "127            2\n",
       "199            2\n",
       "274            2\n",
       "398            2\n",
       "135            2\n",
       "409            2\n",
       "94             2\n",
       "263            2\n",
       "266            2\n",
       "192            2\n",
       "130            2\n",
       "220            2\n",
       "316            2\n",
       "153            2\n",
       "133            2\n",
       "137            2\n",
       "338            2\n",
       "93             2\n",
       "232            2\n",
       "123            2\n",
       "223            2\n",
       "218            2\n",
       "102            2\n",
       "148            2\n",
       "245            2\n",
       "185            2\n",
       "189            2\n",
       "228            2\n",
       "264            2\n",
       "326            2\n",
       "91             2\n",
       "287            2\n",
       "305            2\n",
       "118            2\n",
       "100            2\n",
       "445            2\n",
       "134            2\n",
       "173            2\n",
       "198            2\n",
       "434            2\n",
       "111            2\n",
       "229            2\n",
       "329            2\n",
       "262            2\n",
       "190            2\n",
       "209            2\n",
       "150            2\n",
       "152            2\n",
       "867            2\n",
       "674            1\n",
       "83             1\n",
       "2062           1\n",
       "314            1\n",
       "702            1\n",
       "293            1\n",
       "1897           1\n",
       "302            1\n",
       "500            1\n",
       "421            1\n",
       "790            1\n",
       "888            1\n",
       "905            1\n",
       "331            1\n",
       "662            1\n",
       "276            1\n",
       "481            1\n",
       "337            1\n",
       "955            1\n",
       "857            1\n",
       "236            1\n",
       "1470           1\n",
       "460            1\n",
       "387            1\n",
       "1109           1\n",
       "681            1\n",
       "776            1\n",
       "1079           1\n",
       "275            1\n",
       "217            1\n",
       "1143           1\n",
       "410            1\n",
       "269            1\n",
       "172            1\n",
       "524            1\n",
       "475            1\n",
       "164            1\n",
       "756            1\n",
       "140            1\n",
       "344            1\n",
       "216            1\n",
       "495            1\n",
       "2211           1\n",
       "299            1\n",
       "226            1\n",
       "4460           1\n",
       "1978           1\n",
       "704            1\n",
       "575            1\n",
       "5995           1\n",
       "1252           1\n",
       "325            1\n",
       "154            1\n",
       "252            1\n",
       "143            1\n",
       "1138           1\n",
       "399            1\n",
       "319            1\n",
       "176            1\n",
       "246            1\n",
       "4267           1\n",
       "458            1\n",
       "2905           1\n",
       "233            1\n",
       "1467           1\n",
       "815            1\n",
       "378            1\n",
       "371            1\n",
       "1248           1\n",
       "550            1\n",
       "180            1\n",
       "402            1\n",
       "998            1\n",
       "2134           1\n",
       "606            1\n",
       "1848           1\n",
       "204            1\n",
       "1067           1\n",
       "120            1\n",
       "345            1\n",
       "112            1\n",
       "108            1\n",
       "455            1\n",
       "131            1\n",
       "177            1\n",
       "465            1\n",
       "1625           1\n",
       "1199           1\n",
       "499            1\n",
       "285            1\n",
       "106            1\n",
       "166            1\n",
       "213            1\n",
       "451            1\n",
       "196            1\n",
       "92             1\n",
       "214            1\n",
       "335            1\n",
       "631            1\n",
       "243            1\n",
       "270            1\n",
       "655            1\n",
       "424            1\n",
       "186            1\n",
       "958            1\n",
       "339            1\n",
       "875            1\n",
       "517            1\n",
       "271            1\n",
       "2222           1\n",
       "374            1\n",
       "1130           1\n",
       "341            1\n",
       "612            1\n",
       "380            1\n",
       "574            1\n",
       "4477           1\n",
       "1066           1\n",
       "128            1\n",
       "381            1\n",
       "415            1\n",
       "212            1\n",
       "864            1\n",
       "567            1\n",
       "642            1\n",
       "227            1\n",
       "718            1\n",
       "286            1\n",
       "538            1\n",
       "750            1\n",
       "147            1\n",
       "1584           1\n",
       "366            1\n",
       "184            1\n",
       "1135           1\n",
       "1060           1\n",
       "249            1\n",
       "1446           1\n",
       "5926           1\n",
       "215            1\n",
       "420            1\n",
       "683            1\n",
       "1183           1\n",
       "132            1\n",
       "468            1\n",
       "2247           1\n",
       "277            1\n",
       "464            1\n",
       "211            1\n",
       "265            1\n",
       "392            1\n",
       "139            1\n",
       "470            1\n",
       "935            1\n",
       "772            1\n",
       "626            1\n",
       "657            1\n",
       "201            1\n",
       "230            1\n",
       "666            1\n",
       "472            1\n",
       "769            1\n",
       "301            1\n",
       "8803           1\n",
       "206            1\n",
       "1150           1\n",
       "308            1\n",
       "2508           1\n",
       "1114           1\n",
       "469            1\n",
       "205            1\n",
       "406            1\n",
       "370            1\n",
       "6492           1\n",
       "321            1\n",
       "145            1\n",
       "369            1\n",
       "258            1\n",
       "676            1\n",
       "313            1\n",
       "1610           1\n",
       "902            1\n",
       "307            1\n",
       "648            1\n",
       "727            1\n",
       "6296           1\n",
       "437            1\n",
       "2930           1\n",
       "255            1\n",
       "383            1\n",
       "336            1\n",
       "251            1\n",
       "675            1\n",
       "289            1\n",
       "1904           1\n",
       "119            1\n",
       "1005           1\n",
       "1607           1\n",
       "2612           1\n",
       "188            1\n",
       "2023           1\n",
       "1814           1\n",
       "8860           1\n",
       "616            1\n",
       "641            1\n",
       "707            1\n",
       "720            1\n",
       "17273          1\n",
       "234            1\n",
       "578            1\n",
       "912            1\n",
       "359            1\n",
       "2675           1\n",
       "663            1\n",
       "203            1\n",
       "459            1\n",
       "1076           1\n",
       "363            1\n",
       "259            1\n",
       "1915           1\n",
       "511            1\n",
       "461            1\n",
       "2899           1\n",
       "Name: comments, dtype: int64"
      ]
     },
     "execution_count": 6,
     "metadata": {},
     "output_type": "execute_result"
    }
   ],
   "source": [
    "df['comments'].value_counts()"
   ]
  },
  {
   "cell_type": "code",
   "execution_count": 7,
   "metadata": {},
   "outputs": [],
   "source": [
    "df['comments'] = df['comments'].apply(lambda x: x.replace('comment', ''))"
   ]
  },
  {
   "cell_type": "code",
   "execution_count": 8,
   "metadata": {
    "collapsed": true
   },
   "outputs": [],
   "source": [
    "df['comments'] = df['comments'].apply(lambda x: 0 if x == '' else x)"
   ]
  },
  {
   "cell_type": "code",
   "execution_count": 9,
   "metadata": {},
   "outputs": [],
   "source": [
    "df['comments'] = df['comments'].apply(lambda x: int(x))"
   ]
  },
  {
   "cell_type": "code",
   "execution_count": 10,
   "metadata": {},
   "outputs": [
    {
     "data": {
      "text/plain": [
       "title       object\n",
       "time        object\n",
       "sub         object\n",
       "comments     int64\n",
       "dtype: object"
      ]
     },
     "execution_count": 10,
     "metadata": {},
     "output_type": "execute_result"
    }
   ],
   "source": [
    "df.dtypes"
   ]
  },
  {
   "cell_type": "code",
   "execution_count": 11,
   "metadata": {
    "scrolled": true
   },
   "outputs": [
    {
     "data": {
      "text/plain": [
       "6 hours ago       316\n",
       "4 hours ago       309\n",
       "5 hours ago       308\n",
       "7 hours ago       279\n",
       "3 hours ago       235\n",
       "8 hours ago       199\n",
       "2 hours ago       191\n",
       "9 hours ago       117\n",
       "10 hours ago       97\n",
       "11 hours ago       74\n",
       "1 hour ago         48\n",
       "12 hours ago       43\n",
       "13 hours ago       40\n",
       "17 hours ago       36\n",
       "15 hours ago       33\n",
       "14 hours ago       28\n",
       "16 hours ago       27\n",
       "an hour ago        27\n",
       "19 hours ago       24\n",
       "18 hours ago       21\n",
       "23 hours ago       19\n",
       "20 hours ago       16\n",
       "21 hours ago       12\n",
       "22 hours ago       11\n",
       "59 minutes ago      2\n",
       "41 minutes ago      2\n",
       "29 minutes ago      1\n",
       "50 minutes ago      1\n",
       "28 minutes ago      1\n",
       "48 minutes ago      1\n",
       "57 minutes ago      1\n",
       "22 minutes ago      1\n",
       "30 minutes ago      1\n",
       "32 minutes ago      1\n",
       "35 minutes ago      1\n",
       "10 minutes ago      1\n",
       "Name: time, dtype: int64"
      ]
     },
     "execution_count": 11,
     "metadata": {},
     "output_type": "execute_result"
    }
   ],
   "source": [
    "df['time'].value_counts()"
   ]
  },
  {
   "cell_type": "code",
   "execution_count": 12,
   "metadata": {},
   "outputs": [
    {
     "data": {
      "text/plain": [
       "<type 'str'>      2524\n",
       "<type 'float'>       1\n",
       "Name: time, dtype: int64"
      ]
     },
     "execution_count": 12,
     "metadata": {},
     "output_type": "execute_result"
    }
   ],
   "source": [
    "df['time'].apply(lambda x: type(x)).value_counts()"
   ]
  },
  {
   "cell_type": "code",
   "execution_count": 13,
   "metadata": {},
   "outputs": [
    {
     "data": {
      "text/html": [
       "<div>\n",
       "<style>\n",
       "    .dataframe thead tr:only-child th {\n",
       "        text-align: right;\n",
       "    }\n",
       "\n",
       "    .dataframe thead th {\n",
       "        text-align: left;\n",
       "    }\n",
       "\n",
       "    .dataframe tbody tr th {\n",
       "        vertical-align: top;\n",
       "    }\n",
       "</style>\n",
       "<table border=\"1\" class=\"dataframe\">\n",
       "  <thead>\n",
       "    <tr style=\"text-align: right;\">\n",
       "      <th></th>\n",
       "      <th>title</th>\n",
       "      <th>time</th>\n",
       "      <th>sub</th>\n",
       "      <th>comments</th>\n",
       "    </tr>\n",
       "  </thead>\n",
       "  <tbody>\n",
       "    <tr>\n",
       "      <th>1259</th>\n",
       "      <td>Turns out AB+ isn't always all that selfish</td>\n",
       "      <td>NaN</td>\n",
       "      <td>r/coolguides</td>\n",
       "      <td>174</td>\n",
       "    </tr>\n",
       "  </tbody>\n",
       "</table>\n",
       "</div>"
      ],
      "text/plain": [
       "                                            title time           sub  comments\n",
       "1259  Turns out AB+ isn't always all that selfish  NaN  r/coolguides       174"
      ]
     },
     "execution_count": 13,
     "metadata": {},
     "output_type": "execute_result"
    }
   ],
   "source": [
    "df[df['time'].isnull() == True]"
   ]
  },
  {
   "cell_type": "code",
   "execution_count": 14,
   "metadata": {},
   "outputs": [
    {
     "data": {
      "text/plain": [
       "title       0\n",
       "time        1\n",
       "sub         0\n",
       "comments    0\n",
       "dtype: int64"
      ]
     },
     "execution_count": 14,
     "metadata": {},
     "output_type": "execute_result"
    }
   ],
   "source": [
    "df.isnull().sum()"
   ]
  },
  {
   "cell_type": "code",
   "execution_count": 16,
   "metadata": {},
   "outputs": [],
   "source": [
    "df['time'] = df['time'].apply(lambda x: float(str(x)[0:2])/60 if 'minutes' in str(x)\\\n",
    "                 else float(str(x)[:-10]) if 'hours' in str(x) else x)"
   ]
  },
  {
   "cell_type": "code",
   "execution_count": 17,
   "metadata": {
    "collapsed": true
   },
   "outputs": [],
   "source": [
    "df['time'] = df['time'].apply(lambda x: 1 if 'hour' in str(x) else x)"
   ]
  },
  {
   "cell_type": "code",
   "execution_count": 18,
   "metadata": {},
   "outputs": [
    {
     "data": {
      "text/plain": [
       "title        object\n",
       "time        float64\n",
       "sub          object\n",
       "comments      int64\n",
       "dtype: object"
      ]
     },
     "execution_count": 18,
     "metadata": {},
     "output_type": "execute_result"
    }
   ],
   "source": [
    "df.dtypes"
   ]
  },
  {
   "cell_type": "code",
   "execution_count": 22,
   "metadata": {},
   "outputs": [],
   "source": [
    "df = df.dropna()"
   ]
  },
  {
   "cell_type": "code",
   "execution_count": 23,
   "metadata": {},
   "outputs": [
    {
     "data": {
      "text/html": [
       "<div>\n",
       "<style>\n",
       "    .dataframe thead tr:only-child th {\n",
       "        text-align: right;\n",
       "    }\n",
       "\n",
       "    .dataframe thead th {\n",
       "        text-align: left;\n",
       "    }\n",
       "\n",
       "    .dataframe tbody tr th {\n",
       "        vertical-align: top;\n",
       "    }\n",
       "</style>\n",
       "<table border=\"1\" class=\"dataframe\">\n",
       "  <thead>\n",
       "    <tr style=\"text-align: right;\">\n",
       "      <th></th>\n",
       "      <th>time</th>\n",
       "      <th>comments</th>\n",
       "    </tr>\n",
       "  </thead>\n",
       "  <tbody>\n",
       "    <tr>\n",
       "      <th>count</th>\n",
       "      <td>2524.000000</td>\n",
       "      <td>2524.000000</td>\n",
       "    </tr>\n",
       "    <tr>\n",
       "      <th>mean</th>\n",
       "      <td>6.845094</td>\n",
       "      <td>126.415214</td>\n",
       "    </tr>\n",
       "    <tr>\n",
       "      <th>std</th>\n",
       "      <td>4.405695</td>\n",
       "      <td>568.840644</td>\n",
       "    </tr>\n",
       "    <tr>\n",
       "      <th>min</th>\n",
       "      <td>0.166667</td>\n",
       "      <td>0.000000</td>\n",
       "    </tr>\n",
       "    <tr>\n",
       "      <th>25%</th>\n",
       "      <td>4.000000</td>\n",
       "      <td>7.000000</td>\n",
       "    </tr>\n",
       "    <tr>\n",
       "      <th>50%</th>\n",
       "      <td>6.000000</td>\n",
       "      <td>21.000000</td>\n",
       "    </tr>\n",
       "    <tr>\n",
       "      <th>75%</th>\n",
       "      <td>8.000000</td>\n",
       "      <td>73.000000</td>\n",
       "    </tr>\n",
       "    <tr>\n",
       "      <th>max</th>\n",
       "      <td>23.000000</td>\n",
       "      <td>17273.000000</td>\n",
       "    </tr>\n",
       "  </tbody>\n",
       "</table>\n",
       "</div>"
      ],
      "text/plain": [
       "              time      comments\n",
       "count  2524.000000   2524.000000\n",
       "mean      6.845094    126.415214\n",
       "std       4.405695    568.840644\n",
       "min       0.166667      0.000000\n",
       "25%       4.000000      7.000000\n",
       "50%       6.000000     21.000000\n",
       "75%       8.000000     73.000000\n",
       "max      23.000000  17273.000000"
      ]
     },
     "execution_count": 23,
     "metadata": {},
     "output_type": "execute_result"
    }
   ],
   "source": [
    "df.describe()"
   ]
  },
  {
   "cell_type": "code",
   "execution_count": 28,
   "metadata": {},
   "outputs": [
    {
     "data": {
      "text/plain": [
       "0.19730586370839936"
      ]
     },
     "execution_count": 28,
     "metadata": {},
     "output_type": "execute_result"
    }
   ],
   "source": [
    "len(df[df['comments'] >= 100])/float(len(df))"
   ]
  },
  {
   "cell_type": "code",
   "execution_count": 29,
   "metadata": {
    "collapsed": true
   },
   "outputs": [],
   "source": [
    "# There is an extremely high variance in the number of comments. \n",
    "# Choosing 100 as a threshold seems reasonble as just under 20% of posts achieve that. "
   ]
  },
  {
   "cell_type": "code",
   "execution_count": 32,
   "metadata": {
    "collapsed": true
   },
   "outputs": [],
   "source": [
    "df['H/L'] = df['comments'].apply(lambda x: 'Low' if x < 100 else 'High')"
   ]
  },
  {
   "cell_type": "code",
   "execution_count": 36,
   "metadata": {},
   "outputs": [
    {
     "data": {
      "text/html": [
       "<div>\n",
       "<style>\n",
       "    .dataframe thead tr:only-child th {\n",
       "        text-align: right;\n",
       "    }\n",
       "\n",
       "    .dataframe thead th {\n",
       "        text-align: left;\n",
       "    }\n",
       "\n",
       "    .dataframe tbody tr th {\n",
       "        vertical-align: top;\n",
       "    }\n",
       "</style>\n",
       "<table border=\"1\" class=\"dataframe\">\n",
       "  <thead>\n",
       "    <tr style=\"text-align: right;\">\n",
       "      <th></th>\n",
       "      <th>title</th>\n",
       "      <th>time</th>\n",
       "      <th>sub</th>\n",
       "      <th>comments</th>\n",
       "      <th>H/L</th>\n",
       "    </tr>\n",
       "  </thead>\n",
       "  <tbody>\n",
       "    <tr>\n",
       "      <th>0</th>\n",
       "      <td>Dad reflexes prevent crash.</td>\n",
       "      <td>2.0</td>\n",
       "      <td>r/DadReflexes</td>\n",
       "      <td>249</td>\n",
       "      <td>High</td>\n",
       "    </tr>\n",
       "    <tr>\n",
       "      <th>1</th>\n",
       "      <td>Quite literally choosing beggar</td>\n",
       "      <td>4.0</td>\n",
       "      <td>r/ChoosingBeggars</td>\n",
       "      <td>631</td>\n",
       "      <td>High</td>\n",
       "    </tr>\n",
       "    <tr>\n",
       "      <th>2</th>\n",
       "      <td>When your cat crashes his bicycle in his dream...</td>\n",
       "      <td>4.0</td>\n",
       "      <td>r/funny</td>\n",
       "      <td>642</td>\n",
       "      <td>High</td>\n",
       "    </tr>\n",
       "    <tr>\n",
       "      <th>3</th>\n",
       "      <td>Heatmap of numbers found at the end of Reddit ...</td>\n",
       "      <td>5.0</td>\n",
       "      <td>r/dataisbeautiful</td>\n",
       "      <td>2612</td>\n",
       "      <td>High</td>\n",
       "    </tr>\n",
       "    <tr>\n",
       "      <th>4</th>\n",
       "      <td>Hre you OPEN TODAY</td>\n",
       "      <td>5.0</td>\n",
       "      <td>r/oldpeoplefacebook</td>\n",
       "      <td>313</td>\n",
       "      <td>High</td>\n",
       "    </tr>\n",
       "  </tbody>\n",
       "</table>\n",
       "</div>"
      ],
      "text/plain": [
       "                                               title  time  \\\n",
       "0                        Dad reflexes prevent crash.   2.0   \n",
       "1                    Quite literally choosing beggar   4.0   \n",
       "2  When your cat crashes his bicycle in his dream...   4.0   \n",
       "3  Heatmap of numbers found at the end of Reddit ...   5.0   \n",
       "4                                 Hre you OPEN TODAY   5.0   \n",
       "\n",
       "                   sub  comments   H/L  \n",
       "0        r/DadReflexes       249  High  \n",
       "1    r/ChoosingBeggars       631  High  \n",
       "2              r/funny       642  High  \n",
       "3    r/dataisbeautiful      2612  High  \n",
       "4  r/oldpeoplefacebook       313  High  "
      ]
     },
     "execution_count": 36,
     "metadata": {},
     "output_type": "execute_result"
    }
   ],
   "source": [
    "df.head()"
   ]
  },
  {
   "cell_type": "code",
   "execution_count": 37,
   "metadata": {},
   "outputs": [
    {
     "data": {
      "text/plain": [
       "Low     2026\n",
       "High     498\n",
       "Name: H/L, dtype: int64"
      ]
     },
     "execution_count": 37,
     "metadata": {},
     "output_type": "execute_result"
    }
   ],
   "source": [
    "df['H/L'].value_counts()"
   ]
  },
  {
   "cell_type": "code",
   "execution_count": 39,
   "metadata": {},
   "outputs": [],
   "source": [
    "df['CpH'] = df['comments']/df['time']"
   ]
  },
  {
   "cell_type": "code",
   "execution_count": 48,
   "metadata": {},
   "outputs": [
    {
     "data": {
      "text/html": [
       "<div>\n",
       "<style>\n",
       "    .dataframe thead tr:only-child th {\n",
       "        text-align: right;\n",
       "    }\n",
       "\n",
       "    .dataframe thead th {\n",
       "        text-align: left;\n",
       "    }\n",
       "\n",
       "    .dataframe tbody tr th {\n",
       "        vertical-align: top;\n",
       "    }\n",
       "</style>\n",
       "<table border=\"1\" class=\"dataframe\">\n",
       "  <thead>\n",
       "    <tr style=\"text-align: right;\">\n",
       "      <th></th>\n",
       "      <th>time</th>\n",
       "      <th>comments</th>\n",
       "      <th>CpH</th>\n",
       "    </tr>\n",
       "  </thead>\n",
       "  <tbody>\n",
       "    <tr>\n",
       "      <th>count</th>\n",
       "      <td>2524.000000</td>\n",
       "      <td>2524.000000</td>\n",
       "      <td>2524.000000</td>\n",
       "    </tr>\n",
       "    <tr>\n",
       "      <th>mean</th>\n",
       "      <td>6.845094</td>\n",
       "      <td>126.415214</td>\n",
       "      <td>17.321115</td>\n",
       "    </tr>\n",
       "    <tr>\n",
       "      <th>std</th>\n",
       "      <td>4.405695</td>\n",
       "      <td>568.840644</td>\n",
       "      <td>62.392326</td>\n",
       "    </tr>\n",
       "    <tr>\n",
       "      <th>min</th>\n",
       "      <td>0.166667</td>\n",
       "      <td>0.000000</td>\n",
       "      <td>0.000000</td>\n",
       "    </tr>\n",
       "    <tr>\n",
       "      <th>25%</th>\n",
       "      <td>4.000000</td>\n",
       "      <td>7.000000</td>\n",
       "      <td>1.375000</td>\n",
       "    </tr>\n",
       "    <tr>\n",
       "      <th>50%</th>\n",
       "      <td>6.000000</td>\n",
       "      <td>21.000000</td>\n",
       "      <td>4.000000</td>\n",
       "    </tr>\n",
       "    <tr>\n",
       "      <th>75%</th>\n",
       "      <td>8.000000</td>\n",
       "      <td>73.000000</td>\n",
       "      <td>11.428571</td>\n",
       "    </tr>\n",
       "    <tr>\n",
       "      <th>max</th>\n",
       "      <td>23.000000</td>\n",
       "      <td>17273.000000</td>\n",
       "      <td>1107.500000</td>\n",
       "    </tr>\n",
       "  </tbody>\n",
       "</table>\n",
       "</div>"
      ],
      "text/plain": [
       "              time      comments          CpH\n",
       "count  2524.000000   2524.000000  2524.000000\n",
       "mean      6.845094    126.415214    17.321115\n",
       "std       4.405695    568.840644    62.392326\n",
       "min       0.166667      0.000000     0.000000\n",
       "25%       4.000000      7.000000     1.375000\n",
       "50%       6.000000     21.000000     4.000000\n",
       "75%       8.000000     73.000000    11.428571\n",
       "max      23.000000  17273.000000  1107.500000"
      ]
     },
     "execution_count": 48,
     "metadata": {},
     "output_type": "execute_result"
    }
   ],
   "source": [
    "df.describe()"
   ]
  },
  {
   "cell_type": "code",
   "execution_count": 52,
   "metadata": {},
   "outputs": [
    {
     "data": {
      "text/plain": [
       "0.2777337559429477"
      ]
     },
     "execution_count": 52,
     "metadata": {},
     "output_type": "execute_result"
    }
   ],
   "source": [
    "len(df[df['CpH'] >= 10])/float(len(df))"
   ]
  },
  {
   "cell_type": "code",
   "execution_count": 53,
   "metadata": {
    "collapsed": true
   },
   "outputs": [],
   "source": [
    "# On second thought, maybe it's better to classify for a good rate - more than 10 comments per hour.\n",
    "# About 28% of posts achieved that. "
   ]
  },
  {
   "cell_type": "code",
   "execution_count": 55,
   "metadata": {},
   "outputs": [],
   "source": [
    "df['H/L'] = df['CpH'].apply(lambda x: 'Low' if x < 10 else 'High')"
   ]
  },
  {
   "cell_type": "code",
   "execution_count": 56,
   "metadata": {},
   "outputs": [
    {
     "data": {
      "text/html": [
       "<div>\n",
       "<style>\n",
       "    .dataframe thead tr:only-child th {\n",
       "        text-align: right;\n",
       "    }\n",
       "\n",
       "    .dataframe thead th {\n",
       "        text-align: left;\n",
       "    }\n",
       "\n",
       "    .dataframe tbody tr th {\n",
       "        vertical-align: top;\n",
       "    }\n",
       "</style>\n",
       "<table border=\"1\" class=\"dataframe\">\n",
       "  <thead>\n",
       "    <tr style=\"text-align: right;\">\n",
       "      <th></th>\n",
       "      <th>title</th>\n",
       "      <th>time</th>\n",
       "      <th>sub</th>\n",
       "      <th>comments</th>\n",
       "      <th>H/L</th>\n",
       "      <th>CpH</th>\n",
       "    </tr>\n",
       "  </thead>\n",
       "  <tbody>\n",
       "    <tr>\n",
       "      <th>0</th>\n",
       "      <td>Dad reflexes prevent crash.</td>\n",
       "      <td>2.0</td>\n",
       "      <td>r/DadReflexes</td>\n",
       "      <td>249</td>\n",
       "      <td>High</td>\n",
       "      <td>124.50</td>\n",
       "    </tr>\n",
       "    <tr>\n",
       "      <th>1</th>\n",
       "      <td>Quite literally choosing beggar</td>\n",
       "      <td>4.0</td>\n",
       "      <td>r/ChoosingBeggars</td>\n",
       "      <td>631</td>\n",
       "      <td>High</td>\n",
       "      <td>157.75</td>\n",
       "    </tr>\n",
       "    <tr>\n",
       "      <th>2</th>\n",
       "      <td>When your cat crashes his bicycle in his dream...</td>\n",
       "      <td>4.0</td>\n",
       "      <td>r/funny</td>\n",
       "      <td>642</td>\n",
       "      <td>High</td>\n",
       "      <td>160.50</td>\n",
       "    </tr>\n",
       "    <tr>\n",
       "      <th>3</th>\n",
       "      <td>Heatmap of numbers found at the end of Reddit ...</td>\n",
       "      <td>5.0</td>\n",
       "      <td>r/dataisbeautiful</td>\n",
       "      <td>2612</td>\n",
       "      <td>High</td>\n",
       "      <td>522.40</td>\n",
       "    </tr>\n",
       "    <tr>\n",
       "      <th>4</th>\n",
       "      <td>Hre you OPEN TODAY</td>\n",
       "      <td>5.0</td>\n",
       "      <td>r/oldpeoplefacebook</td>\n",
       "      <td>313</td>\n",
       "      <td>High</td>\n",
       "      <td>62.60</td>\n",
       "    </tr>\n",
       "  </tbody>\n",
       "</table>\n",
       "</div>"
      ],
      "text/plain": [
       "                                               title  time  \\\n",
       "0                        Dad reflexes prevent crash.   2.0   \n",
       "1                    Quite literally choosing beggar   4.0   \n",
       "2  When your cat crashes his bicycle in his dream...   4.0   \n",
       "3  Heatmap of numbers found at the end of Reddit ...   5.0   \n",
       "4                                 Hre you OPEN TODAY   5.0   \n",
       "\n",
       "                   sub  comments   H/L     CpH  \n",
       "0        r/DadReflexes       249  High  124.50  \n",
       "1    r/ChoosingBeggars       631  High  157.75  \n",
       "2              r/funny       642  High  160.50  \n",
       "3    r/dataisbeautiful      2612  High  522.40  \n",
       "4  r/oldpeoplefacebook       313  High   62.60  "
      ]
     },
     "execution_count": 56,
     "metadata": {},
     "output_type": "execute_result"
    }
   ],
   "source": [
    "df.head()"
   ]
  },
  {
   "cell_type": "code",
   "execution_count": 57,
   "metadata": {
    "collapsed": true
   },
   "outputs": [],
   "source": [
    "# Reordering the columns to put the target at the end. \n",
    "cols = ['title', 'time', 'sub', 'comments', 'CpH', 'H/L']\n",
    "df = df[cols]"
   ]
  },
  {
   "cell_type": "code",
   "execution_count": 58,
   "metadata": {},
   "outputs": [
    {
     "data": {
      "text/html": [
       "<div>\n",
       "<style>\n",
       "    .dataframe thead tr:only-child th {\n",
       "        text-align: right;\n",
       "    }\n",
       "\n",
       "    .dataframe thead th {\n",
       "        text-align: left;\n",
       "    }\n",
       "\n",
       "    .dataframe tbody tr th {\n",
       "        vertical-align: top;\n",
       "    }\n",
       "</style>\n",
       "<table border=\"1\" class=\"dataframe\">\n",
       "  <thead>\n",
       "    <tr style=\"text-align: right;\">\n",
       "      <th></th>\n",
       "      <th>title</th>\n",
       "      <th>time</th>\n",
       "      <th>sub</th>\n",
       "      <th>comments</th>\n",
       "      <th>CpH</th>\n",
       "      <th>H/L</th>\n",
       "    </tr>\n",
       "  </thead>\n",
       "  <tbody>\n",
       "    <tr>\n",
       "      <th>0</th>\n",
       "      <td>Dad reflexes prevent crash.</td>\n",
       "      <td>2.0</td>\n",
       "      <td>r/DadReflexes</td>\n",
       "      <td>249</td>\n",
       "      <td>124.50</td>\n",
       "      <td>High</td>\n",
       "    </tr>\n",
       "    <tr>\n",
       "      <th>1</th>\n",
       "      <td>Quite literally choosing beggar</td>\n",
       "      <td>4.0</td>\n",
       "      <td>r/ChoosingBeggars</td>\n",
       "      <td>631</td>\n",
       "      <td>157.75</td>\n",
       "      <td>High</td>\n",
       "    </tr>\n",
       "    <tr>\n",
       "      <th>2</th>\n",
       "      <td>When your cat crashes his bicycle in his dream...</td>\n",
       "      <td>4.0</td>\n",
       "      <td>r/funny</td>\n",
       "      <td>642</td>\n",
       "      <td>160.50</td>\n",
       "      <td>High</td>\n",
       "    </tr>\n",
       "    <tr>\n",
       "      <th>3</th>\n",
       "      <td>Heatmap of numbers found at the end of Reddit ...</td>\n",
       "      <td>5.0</td>\n",
       "      <td>r/dataisbeautiful</td>\n",
       "      <td>2612</td>\n",
       "      <td>522.40</td>\n",
       "      <td>High</td>\n",
       "    </tr>\n",
       "    <tr>\n",
       "      <th>4</th>\n",
       "      <td>Hre you OPEN TODAY</td>\n",
       "      <td>5.0</td>\n",
       "      <td>r/oldpeoplefacebook</td>\n",
       "      <td>313</td>\n",
       "      <td>62.60</td>\n",
       "      <td>High</td>\n",
       "    </tr>\n",
       "  </tbody>\n",
       "</table>\n",
       "</div>"
      ],
      "text/plain": [
       "                                               title  time  \\\n",
       "0                        Dad reflexes prevent crash.   2.0   \n",
       "1                    Quite literally choosing beggar   4.0   \n",
       "2  When your cat crashes his bicycle in his dream...   4.0   \n",
       "3  Heatmap of numbers found at the end of Reddit ...   5.0   \n",
       "4                                 Hre you OPEN TODAY   5.0   \n",
       "\n",
       "                   sub  comments     CpH   H/L  \n",
       "0        r/DadReflexes       249  124.50  High  \n",
       "1    r/ChoosingBeggars       631  157.75  High  \n",
       "2              r/funny       642  160.50  High  \n",
       "3    r/dataisbeautiful      2612  522.40  High  \n",
       "4  r/oldpeoplefacebook       313   62.60  High  "
      ]
     },
     "execution_count": 58,
     "metadata": {},
     "output_type": "execute_result"
    }
   ],
   "source": [
    "df.head()"
   ]
  },
  {
   "cell_type": "code",
   "execution_count": 59,
   "metadata": {},
   "outputs": [
    {
     "data": {
      "text/plain": [
       "'Heatmap of numbers found at the end of Reddit usernames [OC]'"
      ]
     },
     "execution_count": 59,
     "metadata": {},
     "output_type": "execute_result"
    }
   ],
   "source": [
    "df.iloc[3,0]"
   ]
  },
  {
   "cell_type": "code",
   "execution_count": null,
   "metadata": {
    "collapsed": true
   },
   "outputs": [],
   "source": []
  }
 ],
 "metadata": {
  "kernelspec": {
   "display_name": "Python 2",
   "language": "python",
   "name": "python2"
  },
  "language_info": {
   "codemirror_mode": {
    "name": "ipython",
    "version": 2
   },
   "file_extension": ".py",
   "mimetype": "text/x-python",
   "name": "python",
   "nbconvert_exporter": "python",
   "pygments_lexer": "ipython2",
   "version": "2.7.14"
  }
 },
 "nbformat": 4,
 "nbformat_minor": 2
}
